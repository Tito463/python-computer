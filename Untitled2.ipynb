{
  "nbformat": 4,
  "nbformat_minor": 0,
  "metadata": {
    "colab": {
      "provenance": []
    },
    "kernelspec": {
      "name": "python3",
      "display_name": "Python 3"
    },
    "language_info": {
      "name": "python"
    }
  },
  "cells": [
    {
      "cell_type": "code",
      "source": [
        "salt =30\n",
        "sugar =salt + 50\n",
        "oil =sugar + 40\n",
        "#print results\n",
        "print(\"the values of salt,sugar,oil are:{0},{1},{2}\".format(salt,sugar,oil))"
      ],
      "metadata": {
        "colab": {
          "base_uri": "https://localhost:8080/"
        },
        "id": "K0ie29sNemZx",
        "outputId": "0b85262a-bc2d-48ce-d062-4586f9cc2f19"
      },
      "execution_count": 4,
      "outputs": [
        {
          "output_type": "stream",
          "name": "stdout",
          "text": [
            "the values of salt,sugar,oil are:30,80,120\n"
          ]
        }
      ]
    },
    {
      "cell_type": "code",
      "source": [
        "all=230\n",
        "B=300\n",
        "all=B%230\n",
        "print(all)"
      ],
      "metadata": {
        "colab": {
          "base_uri": "https://localhost:8080/"
        },
        "id": "ppLYQRlzizIt",
        "outputId": "0cf8b90c-f7bf-446e-a4ac-71513efdde82"
      },
      "execution_count": 11,
      "outputs": [
        {
          "output_type": "stream",
          "name": "stdout",
          "text": [
            "70\n"
          ]
        }
      ]
    },
    {
      "cell_type": "code",
      "source": [
        "الباقي=300-230\n",
        "print(الباقي)"
      ],
      "metadata": {
        "colab": {
          "base_uri": "https://localhost:8080/"
        },
        "id": "_1msdhvlk8Bg",
        "outputId": "7709daf9-89ef-4de5-f945-1b1fc3422ce1"
      },
      "execution_count": 16,
      "outputs": [
        {
          "output_type": "stream",
          "name": "stdout",
          "text": [
            "70\n"
          ]
        }
      ]
    }
  ]
}